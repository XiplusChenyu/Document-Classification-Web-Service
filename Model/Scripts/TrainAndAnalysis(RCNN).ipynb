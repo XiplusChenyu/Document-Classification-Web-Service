{
 "cells": [
  {
   "cell_type": "markdown",
   "metadata": {},
   "source": [
    "# Train and Data Analysis\n",
    "\n",
    "- Use Jupyter Notebook for training\n",
    "- Train on GCP to use Cuda"
   ]
  },
  {
   "cell_type": "code",
   "execution_count": 1,
   "metadata": {},
   "outputs": [],
   "source": [
    "from Settings import Settings\n",
    "Settings.learning_rate = 1e-4\n",
    "Settings.dropout = 0.4 \n",
    "Settings.epoch_num = 20 # 20 for RCNN Model\n",
    "Settings.print_count = 4  # print 5 count for 1 epoch\n",
    "Settings.batch_size = 100 # drop out are set in Model"
   ]
  },
  {
   "cell_type": "code",
   "execution_count": 2,
   "metadata": {},
   "outputs": [],
   "source": [
    "from DataLoader import torch_dataset_loader\n",
    "from TextCRNN import CRNNModel\n",
    "from Train import main_train\n",
    "\n",
    "import json\n",
    "import matplotlib.pyplot as plt"
   ]
  },
  {
   "cell_type": "code",
   "execution_count": 3,
   "metadata": {},
   "outputs": [],
   "source": [
    "# Dataloaders, use clean data (class balance data)\n",
    "train_loader = torch_dataset_loader(Settings.train_path, Settings.batch_size, True, Settings.kwargs)\n",
    "validation_loader = torch_dataset_loader(Settings.valid_path, Settings.batch_size, False, Settings.kwargs)\n",
    "test_loader = torch_dataset_loader(Settings.test_path, Settings.batch_size, False, Settings.kwargs)"
   ]
  },
  {
   "cell_type": "markdown",
   "metadata": {},
   "source": [
    "## Train Text RCNN Model"
   ]
  },
  {
   "cell_type": "code",
   "execution_count": null,
   "metadata": {
    "scrolled": true
   },
   "outputs": [
    {
     "name": "stdout",
     "output_type": "stream",
     "text": [
      "Epoch  1 |  57/228 batches | 135.10ms/ batch | BCE: 0.2277 | Accuracy: 27.49% |\n",
      "Epoch  1 | 114/228 batches | 134.06ms/ batch | BCE: 0.2102 | Accuracy: 33.79% |\n",
      "Epoch  1 | 171/228 batches | 133.69ms/ batch | BCE: 0.1975 | Accuracy: 38.44% |\n",
      "Epoch  1 | 228/228 batches | 133.23ms/ batch | BCE: 0.1878 | Accuracy: 41.84% |\n",
      "---------------------------------------------------------------------------------------------------\n",
      "End of training epoch   1 | time: 30.40s | BCE: 0.1878 | Accuracy: 41.84% |\n",
      "End of validation epoch   1 | time:  1.48s | BCE: 0.1499 | Accuracy: 56.64% |\n",
      "---------------------------------------------------------------------------------------------------\n",
      "***Found Best Training Model***\n"
     ]
    }
   ],
   "source": [
    "txtModel = CRNNModel()\n",
    "log = main_train(txtModel, train_loader, validation_loader, \"train(CRNN).json\", \"model(CRNN).h5\")"
   ]
  },
  {
   "cell_type": "markdown",
   "metadata": {},
   "source": [
    "## Model Analysis"
   ]
  },
  {
   "cell_type": "code",
   "execution_count": null,
   "metadata": {},
   "outputs": [],
   "source": [
    "plt.figure(figsize=(10, 5))\n",
    "plt.plot(log['train_loss'], '--', color=(1,0,0,0.8), label='BCE_LOSS (Train)')\n",
    "plt.plot(log['valid_loss'], '--', color=(0,0,1,0.8), label='BCE_LOSS (Validation)')\n",
    "plt.tight_layout()\n",
    "plt.legend(loc=\"best\")\n",
    "plt.show()"
   ]
  },
  {
   "cell_type": "code",
   "execution_count": null,
   "metadata": {},
   "outputs": [],
   "source": [
    "plt.figure(figsize=(10, 5))\n",
    "plt.plot(log['train_accu'], '--', color=(1,0,0,0.8), label='Accuracy (Train)')\n",
    "plt.plot(log['valid_accu'], '--', color=(0,0,1,0.8), label='Accuracy (Validation)')\n",
    "plt.tight_layout()\n",
    "plt.legend(loc=\"best\")\n",
    "plt.show()"
   ]
  },
  {
   "cell_type": "markdown",
   "metadata": {},
   "source": [
    "## Test Model on test set"
   ]
  },
  {
   "cell_type": "code",
   "execution_count": null,
   "metadata": {},
   "outputs": [],
   "source": [
    "from Train import validate_test\n",
    "import torch"
   ]
  },
  {
   "cell_type": "code",
   "execution_count": null,
   "metadata": {},
   "outputs": [],
   "source": [
    "txtModel = CRNNModel()\n",
    "txtModel.cuda().load_state_dict(torch.load(Settings.model_save_folder + 'model(CRNN).h5'))\n",
    "validate_test(model=txtModel, epoch=0, use_loader=test_loader)"
   ]
  },
  {
   "cell_type": "markdown",
   "metadata": {},
   "source": [
    "## Confusion Matrix"
   ]
  },
  {
   "cell_type": "code",
   "execution_count": null,
   "metadata": {},
   "outputs": [],
   "source": [
    "from Evaluate import Evaluator\n",
    "model = CRNNModel()\n",
    "evaluator = Evaluator(model, \"model(CRNN).h5\")"
   ]
  },
  {
   "cell_type": "code",
   "execution_count": null,
   "metadata": {},
   "outputs": [],
   "source": [
    "evaluator.record_matrix(test_loader, \"textCRNNconfusion.json\")"
   ]
  },
  {
   "cell_type": "code",
   "execution_count": null,
   "metadata": {},
   "outputs": [],
   "source": [
    "import numpy as np\n",
    "import pandas as pd\n",
    "import seaborn as sn"
   ]
  },
  {
   "cell_type": "code",
   "execution_count": null,
   "metadata": {},
   "outputs": [],
   "source": [
    "matrix = np.zeros((Settings.class_num, Settings.class_num))\n",
    "with open(Settings.log_save_folder + 'textCRNNconfusion.json', 'r') as f:\n",
    "    tuple_list = json.load(f)"
   ]
  },
  {
   "cell_type": "code",
   "execution_count": null,
   "metadata": {},
   "outputs": [],
   "source": [
    "for point in tuple_list:\n",
    "    i, j = point  # i is predict, j is real, record 100 point for each label\n",
    "    matrix[i][j] += 1"
   ]
  },
  {
   "cell_type": "code",
   "execution_count": null,
   "metadata": {},
   "outputs": [],
   "source": [
    "matrix /= sum(matrix)\n",
    "matrix = pd.DataFrame(matrix, index = [evaluator.index_to_label.get(str(i+1)) for i in range(Settings.class_num)],\n",
    "                  columns = [evaluator.index_to_label.get(str(i+1)) for i in range(Settings.class_num)],)"
   ]
  },
  {
   "cell_type": "code",
   "execution_count": null,
   "metadata": {},
   "outputs": [],
   "source": [
    "plt.figure(figsize=(12, 8))\n",
    "plt.title('Text CRNN Model')\n",
    "sn.heatmap(matrix, annot=True,)\n",
    "plt.tight_layout()\n",
    "plt.show()"
   ]
  },
  {
   "cell_type": "markdown",
   "metadata": {},
   "source": [
    "## Conclusion\n",
    "Current model has 74% accuracy on \"chunk test\""
   ]
  },
  {
   "cell_type": "markdown",
   "metadata": {},
   "source": [
    "# Test model on original set"
   ]
  },
  {
   "cell_type": "code",
   "execution_count": null,
   "metadata": {},
   "outputs": [],
   "source": [
    "import csv\n",
    "\n",
    "csv_file = open(Settings.data_path, \"r\")\n",
    "csv_reader = csv.reader(csv_file)\n",
    "\n",
    "count = 0\n",
    "right_count = 0\n",
    "for line in csv_reader:\n",
    "    label, doc = line\n",
    "    pred_label, score = evaluator.label_predict(doc)\n",
    "    count += 1\n",
    "    if pred_label == label:\n",
    "        right_count += 1\n",
    "\n",
    "csv_file.close()\n",
    "print(count, right_count)"
   ]
  },
  {
   "cell_type": "code",
   "execution_count": null,
   "metadata": {},
   "outputs": [],
   "source": [
    "right_count/ count"
   ]
  },
  {
   "cell_type": "markdown",
   "metadata": {},
   "source": [
    "# Current Model Result\n",
    "\n",
    "- 80% on full length document\n",
    "- 75% on chunks"
   ]
  }
 ],
 "metadata": {
  "kernelspec": {
   "display_name": "Python 3",
   "language": "python",
   "name": "python3"
  },
  "language_info": {
   "codemirror_mode": {
    "name": "ipython",
    "version": 3
   },
   "file_extension": ".py",
   "mimetype": "text/x-python",
   "name": "python",
   "nbconvert_exporter": "python",
   "pygments_lexer": "ipython3",
   "version": "3.7.1"
  }
 },
 "nbformat": 4,
 "nbformat_minor": 2
}
