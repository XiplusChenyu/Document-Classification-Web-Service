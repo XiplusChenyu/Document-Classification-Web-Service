{
 "cells": [
  {
   "cell_type": "markdown",
   "metadata": {},
   "source": [
    "# Dataset Builder\n",
    "This file is used to generate dataset used for model training from given csv file"
   ]
  },
  {
   "cell_type": "code",
   "execution_count": 1,
   "metadata": {},
   "outputs": [],
   "source": [
    "import numpy as np\n",
    "import csv\n",
    "import json\n",
    "import random\n",
    "import h5py\n",
    "from Settings import Settings\n",
    "from FileUtils import FileUtils"
   ]
  },
  {
   "cell_type": "markdown",
   "metadata": {},
   "source": [
    "## Read CSV File"
   ]
  },
  {
   "cell_type": "code",
   "execution_count": 2,
   "metadata": {},
   "outputs": [],
   "source": [
    "with open(Settings.data_folder + \"LabelToIndex.json\", \"r\") as f:\n",
    "    label_dict = json.load(f)\n",
    "\n",
    "with open(Settings.data_folder + \"WordToIndex.json\", \"r\") as f:\n",
    "    word_map = json.load(f)"
   ]
  },
  {
   "cell_type": "code",
   "execution_count": 3,
   "metadata": {},
   "outputs": [],
   "source": [
    "csv_file = open(Settings.data_path, \"r\")\n",
    "csv_reader = csv.reader(csv_file)\n",
    "\n",
    "data_list = list() # contains data\n",
    "sentenceLength = dict()  # used for statistic analysis\n",
    "\n",
    "# notice label indices and word indices are both start from 1\n",
    "\n",
    "for line in csv_reader:\n",
    "    label, doc = line\n",
    "    words = doc.strip().split()\n",
    "    sentenceLength[len(words)] = sentenceLength.get(len(words), 0) + 1\n",
    "    data_list.append([label_dict.get(label), words])\n",
    "        \n",
    "csv_file.close()"
   ]
  },
  {
   "cell_type": "markdown",
   "metadata": {},
   "source": [
    "## Index Original Data\n"
   ]
  },
  {
   "cell_type": "code",
   "execution_count": 4,
   "metadata": {
    "scrolled": true
   },
   "outputs": [],
   "source": [
    "for label, words in data_list:\n",
    "    for i, word in enumerate(words):\n",
    "        words[i] = word_map.get(word, 0)"
   ]
  },
  {
   "cell_type": "markdown",
   "metadata": {},
   "source": [
    "## Divide documents into chunks"
   ]
  },
  {
   "cell_type": "code",
   "execution_count": 5,
   "metadata": {},
   "outputs": [],
   "source": [
    "# we need to determine how to slice the document\n",
    "length = list(sentenceLength.keys())\n",
    "freq = [sentenceLength.get(i) for i in length]"
   ]
  },
  {
   "cell_type": "code",
   "execution_count": 6,
   "metadata": {},
   "outputs": [],
   "source": [
    "import matplotlib.pyplot as plt"
   ]
  },
  {
   "cell_type": "code",
   "execution_count": 7,
   "metadata": {},
   "outputs": [
    {
     "data": {
      "image/png": "[encoded data removed]",
      "text/plain": [
       "<Figure size 432x288 with 1 Axes>"
      ]
     },
     "metadata": {
      "needs_background": "light"
     },
     "output_type": "display_data"
    },
    {
     "name": "stdout",
     "output_type": "stream",
     "text": [
      "464\n"
     ]
    }
   ],
   "source": [
    "plt.scatter(length, freq, s=1)\n",
    "plt.show()\n",
    "print(max(freq))"
   ]
  },
  {
   "cell_type": "code",
   "execution_count": 10,
   "metadata": {},
   "outputs": [],
   "source": [
    "# for smaller chunk, we use 50 as the input length\n",
    "Settings.seq_size = 50"
   ]
  },
  {
   "cell_type": "code",
   "execution_count": 11,
   "metadata": {},
   "outputs": [],
   "source": [
    "records = list()\n",
    "for label, words in data_list:\n",
    "    sentences = FileUtils.divide_sentence(words, Settings.seq_size)\n",
    "    for s in sentences:\n",
    "        records.append([label, s])"
   ]
  },
  {
   "cell_type": "code",
   "execution_count": 12,
   "metadata": {},
   "outputs": [
    {
     "name": "stdout",
     "output_type": "stream",
     "text": [
      "446411\n"
     ]
    }
   ],
   "source": [
    "print(len(records))"
   ]
  },
  {
   "cell_type": "code",
   "execution_count": 13,
   "metadata": {},
   "outputs": [
    {
     "name": "stdout",
     "output_type": "stream",
     "text": [
      "[1, [252340, 270020, 231952, 42995, 177029, 121779, 256593, 7887, 35773, 56023, 258524, 200874, 286144, 213094, 71199, 219665, 147924, 176474, 177029, 241491, 200874, 49830, 157410, 86839, 14031, 256593, 284937, 25418, 226098, 154142, 120378, 166719, 295541, 91005, 47795, 105383, 261583, 258524, 286144, 0, 125558, 16462, 135092, 281306, 181878, 299051, 6329, 200874, 151435, 39892]]\n"
     ]
    }
   ],
   "source": [
    "print(records[0])"
   ]
  },
  {
   "cell_type": "markdown",
   "metadata": {},
   "source": [
    "## Build dataset"
   ]
  },
  {
   "cell_type": "code",
   "execution_count": 14,
   "metadata": {},
   "outputs": [],
   "source": [
    "total_size = len(records)\n",
    "train_size = int(total_size * 0.8)\n",
    "valid_size = int(total_size * 0.1)\n",
    "test_size = total_size - train_size - valid_size"
   ]
  },
  {
   "cell_type": "code",
   "execution_count": 15,
   "metadata": {},
   "outputs": [
    {
     "name": "stdout",
     "output_type": "stream",
     "text": [
      "357128 44642 44641\n"
     ]
    }
   ],
   "source": [
    "print(train_size, test_size, valid_size)"
   ]
  },
  {
   "cell_type": "code",
   "execution_count": 16,
   "metadata": {},
   "outputs": [],
   "source": [
    "index_list = [i for i in range(total_size)]\n",
    "random.seed(516)\n",
    "random.shuffle(index_list)\n",
    "train_indice = index_list[:train_size]\n",
    "valid_indice = index_list[train_size: train_size + valid_size]\n",
    "test_indice = index_list[-test_size:]"
   ]
  },
  {
   "cell_type": "code",
   "execution_count": 17,
   "metadata": {},
   "outputs": [],
   "source": [
    "def build_set(set_name, indice, all_data):\n",
    "    def create_label(label_index):\n",
    "        \"\"\"\n",
    "        Turn label scalar into a one hot vector\n",
    "        \"\"\"\n",
    "        res = [0 for i in range(14)]\n",
    "        res[label_index-1] = 1 # because we start at 1\n",
    "        return res\n",
    "    \n",
    "    n = len(indice)\n",
    "    dataset = h5py.File(set_name, \"a\")\n",
    "    dataset.create_dataset('label', shape=(n, 14), dtype=int)\n",
    "    dataset.create_dataset('chunk', shape=(n, Settings.seq_size), dtype=int)\n",
    "    \n",
    "    for i, index in enumerate(indice):\n",
    "        label, words = all_data[index]\n",
    "        dataset[\"label\"][i] = create_label(label)\n",
    "        dataset[\"chunk\"][i] = words\n",
    "    dataset.close()\n",
    "    return      "
   ]
  },
  {
   "cell_type": "code",
   "execution_count": 18,
   "metadata": {},
   "outputs": [],
   "source": [
    "build_set(Settings.data_folder + \"less_train.h5\", train_indice, records)"
   ]
  },
  {
   "cell_type": "code",
   "execution_count": 19,
   "metadata": {},
   "outputs": [],
   "source": [
    "build_set(Settings.data_folder + \"less_valid.h5\", valid_indice, records)"
   ]
  },
  {
   "cell_type": "code",
   "execution_count": 20,
   "metadata": {},
   "outputs": [],
   "source": [
    "build_set(Settings.data_folder + \"less_test.h5\", test_indice, records)"
   ]
  },
  {
   "cell_type": "code",
   "execution_count": 22,
   "metadata": {},
   "outputs": [
    {
     "name": "stdout",
     "output_type": "stream",
     "text": [
      "[[0 0 1 0 0 0 0 0 0 0 0 0 0 0]\n",
      " [0 0 0 1 0 0 0 0 0 0 0 0 0 0]\n",
      " [1 0 0 0 0 0 0 0 0 0 0 0 0 0]\n",
      " [0 0 0 0 0 0 0 0 0 1 0 0 0 0]\n",
      " [0 0 0 0 0 0 0 0 0 1 0 0 0 0]]\n",
      "[ 39892 129696 258524 227273  39892 271337 157950 167534  31088 167861\n",
      " 168302 258524  20561  21856 158148 218906 245216 194497 132737  35203\n",
      " 287503 261808 215828 108249 170289  81029  58595 298785 258505  14335\n",
      "  87518 260480 167861 224943 128869 231836  49547 278966 279199 239484\n",
      "  77868 123246 121172 223237 286553 170550 140384  21856 261808 108249]\n"
     ]
    }
   ],
   "source": [
    "t_set = h5py.File(Settings.data_folder + \"less_train.h5\", 'r')\n",
    "print(t_set['label'][:5])\n",
    "print(t_set['chunk'][1])"
   ]
  }
 ],
 "metadata": {
  "kernelspec": {
   "display_name": "Python 3",
   "language": "python",
   "name": "python3"
  },
  "language_info": {
   "codemirror_mode": {
    "name": "ipython",
    "version": 3
   },
   "file_extension": ".py",
   "mimetype": "text/x-python",
   "name": "python",
   "nbconvert_exporter": "python",
   "pygments_lexer": "ipython3",
   "version": "3.7.1"
  }
 },
 "nbformat": 4,
 "nbformat_minor": 2
}
