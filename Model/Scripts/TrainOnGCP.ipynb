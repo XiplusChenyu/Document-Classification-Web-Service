{
 "cells": [
  {
   "cell_type": "markdown",
   "metadata": {},
   "source": [
    "# Train and Data Analysis\n",
    "\n",
    "- Use Jupyter Notebook for training\n",
    "- Train on GCP to use Cuda"
   ]
  },
  {
   "cell_type": "code",
   "execution_count": 1,
   "metadata": {},
   "outputs": [],
   "source": [
    "from DataLoader import train_loader, validation_loader, test_loader\n",
    "from TextCNN import Model\n",
    "from Train import main_train\n",
    "from Settings import Settings"
   ]
  },
  {
   "cell_type": "markdown",
   "metadata": {},
   "source": [
    "## Train Model"
   ]
  },
  {
   "cell_type": "code",
   "execution_count": null,
   "metadata": {},
   "outputs": [
    {
     "name": "stdout",
     "output_type": "stream",
     "text": [
      "Epoch  1 | 1072/5360 batches | 61.77ms/ batch | BCE: 0.2149 | Accuracy: 32.98% |\n",
      "Epoch  1 | 2144/5360 batches | 47.90ms/ batch | BCE: 0.2002 | Accuracy: 38.61% |\n",
      "Epoch  1 | 3216/5360 batches | 43.27ms/ batch | BCE: 0.1904 | Accuracy: 42.52% |\n",
      "Epoch  1 | 4288/5360 batches | 40.95ms/ batch | BCE: 0.1829 | Accuracy: 45.37% |\n",
      "Epoch  1 | 5360/5360 batches | 39.57ms/ batch | BCE: 0.1770 | Accuracy: 47.57% |\n",
      "---------------------------------------------------------------------------------------------------\n",
      "End of training epoch   1 | time: 212.13s | BCE: 0.1770 | Accuracy: 47.57% |\n",
      "End of validation epoch   1 | time:  3.93s | BCE: 0.1222 | Accuracy: 65.87% |\n",
      "---------------------------------------------------------------------------------------------------\n",
      "***Found Best Training Model***\n",
      "***Best Validation Model Found and Saved***\n",
      "---------------------------------------------------------------------------------------------------\n",
      "Epoch  2 | 1072/5360 batches | 34.05ms/ batch | BCE: 0.1476 | Accuracy: 58.31% |\n",
      "Epoch  2 | 2144/5360 batches | 34.04ms/ batch | BCE: 0.1455 | Accuracy: 59.04% |\n",
      "Epoch  2 | 3216/5360 batches | 34.00ms/ batch | BCE: 0.1443 | Accuracy: 59.54% |\n",
      "Epoch  2 | 4288/5360 batches | 33.98ms/ batch | BCE: 0.1424 | Accuracy: 60.07% |\n",
      "Epoch  2 | 5360/5360 batches | 33.99ms/ batch | BCE: 0.1406 | Accuracy: 60.61% |\n",
      "---------------------------------------------------------------------------------------------------\n",
      "End of training epoch   2 | time: 182.22s | BCE: 0.1406 | Accuracy: 60.61% |\n",
      "End of validation epoch   2 | time:  3.55s | BCE: 0.1094 | Accuracy: 69.79% |\n",
      "---------------------------------------------------------------------------------------------------\n",
      "***Found Best Training Model***\n",
      "***Best Validation Model Found and Saved***\n",
      "---------------------------------------------------------------------------------------------------\n",
      "Epoch  3 | 1072/5360 batches | 34.11ms/ batch | BCE: 0.1312 | Accuracy: 63.33% |\n",
      "Epoch  3 | 2144/5360 batches | 34.06ms/ batch | BCE: 0.1300 | Accuracy: 63.76% |\n",
      "Epoch  3 | 3216/5360 batches | 34.05ms/ batch | BCE: 0.1295 | Accuracy: 64.12% |\n",
      "Epoch  3 | 4288/5360 batches | 34.03ms/ batch | BCE: 0.1285 | Accuracy: 64.38% |\n",
      "Epoch  3 | 5360/5360 batches | 34.01ms/ batch | BCE: 0.1275 | Accuracy: 64.67% |\n",
      "---------------------------------------------------------------------------------------------------\n",
      "End of training epoch   3 | time: 182.30s | BCE: 0.1275 | Accuracy: 64.67% |\n",
      "End of validation epoch   3 | time:  3.59s | BCE: 0.1016 | Accuracy: 72.40% |\n",
      "---------------------------------------------------------------------------------------------------\n",
      "***Found Best Training Model***\n",
      "***Best Validation Model Found and Saved***\n",
      "---------------------------------------------------------------------------------------------------\n",
      "Epoch  4 | 1072/5360 batches | 34.10ms/ batch | BCE: 0.1201 | Accuracy: 66.64% |\n",
      "Epoch  4 | 2144/5360 batches | 34.07ms/ batch | BCE: 0.1195 | Accuracy: 66.78% |\n",
      "Epoch  4 | 3216/5360 batches | 34.04ms/ batch | BCE: 0.1192 | Accuracy: 67.01% |\n",
      "Epoch  4 | 4288/5360 batches | 34.00ms/ batch | BCE: 0.1191 | Accuracy: 67.10% |\n",
      "Epoch  4 | 5360/5360 batches | 33.98ms/ batch | BCE: 0.1184 | Accuracy: 67.31% |\n",
      "---------------------------------------------------------------------------------------------------\n",
      "End of training epoch   4 | time: 182.15s | BCE: 0.1184 | Accuracy: 67.31% |\n",
      "End of validation epoch   4 | time:  3.55s | BCE: 0.0960 | Accuracy: 74.09% |\n",
      "---------------------------------------------------------------------------------------------------\n",
      "***Found Best Training Model***\n",
      "***Best Validation Model Found and Saved***\n",
      "---------------------------------------------------------------------------------------------------\n",
      "Epoch  5 | 1072/5360 batches | 34.02ms/ batch | BCE: 0.1141 | Accuracy: 69.07% |\n",
      "Epoch  5 | 2144/5360 batches | 34.00ms/ batch | BCE: 0.1136 | Accuracy: 68.99% |\n",
      "Epoch  5 | 3216/5360 batches | 33.97ms/ batch | BCE: 0.1127 | Accuracy: 69.20% |\n",
      "Epoch  5 | 4288/5360 batches | 33.95ms/ batch | BCE: 0.1126 | Accuracy: 69.13% |\n",
      "Epoch  5 | 5360/5360 batches | 33.94ms/ batch | BCE: 0.1121 | Accuracy: 69.30% |\n",
      "---------------------------------------------------------------------------------------------------\n",
      "End of training epoch   5 | time: 181.96s | BCE: 0.1121 | Accuracy: 69.30% |\n",
      "End of validation epoch   5 | time:  3.76s | BCE: 0.0927 | Accuracy: 74.86% |\n",
      "---------------------------------------------------------------------------------------------------\n",
      "***Found Best Training Model***\n",
      "***Best Validation Model Found and Saved***\n",
      "---------------------------------------------------------------------------------------------------\n",
      "Epoch  6 | 1072/5360 batches | 34.04ms/ batch | BCE: 0.1101 | Accuracy: 69.61% |\n",
      "Epoch  6 | 2144/5360 batches | 34.01ms/ batch | BCE: 0.1091 | Accuracy: 70.07% |\n",
      "Epoch  6 | 3216/5360 batches | 34.01ms/ batch | BCE: 0.1081 | Accuracy: 70.45% |\n",
      "Epoch  6 | 4288/5360 batches | 34.03ms/ batch | BCE: 0.1078 | Accuracy: 70.59% |\n",
      "Epoch  6 | 5360/5360 batches | 34.01ms/ batch | BCE: 0.1076 | Accuracy: 70.64% |\n",
      "---------------------------------------------------------------------------------------------------\n",
      "End of training epoch   6 | time: 182.33s | BCE: 0.1076 | Accuracy: 70.64% |\n",
      "End of validation epoch   6 | time:  3.69s | BCE: 0.0900 | Accuracy: 75.63% |\n",
      "---------------------------------------------------------------------------------------------------\n",
      "***Found Best Training Model***\n",
      "***Best Validation Model Found and Saved***\n",
      "---------------------------------------------------------------------------------------------------\n",
      "Epoch  7 | 1072/5360 batches | 34.02ms/ batch | BCE: 0.1049 | Accuracy: 71.76% |\n",
      "Epoch  7 | 2144/5360 batches | 34.03ms/ batch | BCE: 0.1048 | Accuracy: 71.72% |\n",
      "Epoch  7 | 3216/5360 batches | 34.05ms/ batch | BCE: 0.1045 | Accuracy: 71.72% |\n",
      "Epoch  7 | 4288/5360 batches | 34.03ms/ batch | BCE: 0.1041 | Accuracy: 71.84% |\n",
      "Epoch  7 | 5360/5360 batches | 34.02ms/ batch | BCE: 0.1036 | Accuracy: 71.91% |\n",
      "---------------------------------------------------------------------------------------------------\n",
      "End of training epoch   7 | time: 182.37s | BCE: 0.1036 | Accuracy: 71.91% |\n",
      "End of validation epoch   7 | time:  3.65s | BCE: 0.0883 | Accuracy: 76.15% |\n",
      "---------------------------------------------------------------------------------------------------\n",
      "***Found Best Training Model***\n",
      "***Best Validation Model Found and Saved***\n",
      "---------------------------------------------------------------------------------------------------\n",
      "Epoch  8 | 1072/5360 batches | 34.06ms/ batch | BCE: 0.1014 | Accuracy: 72.31% |\n",
      "Epoch  9 | 3216/5360 batches | 34.11ms/ batch | BCE: 0.0979 | Accuracy: 73.66% |\n",
      "Epoch 17 | 4288/5360 batches | 34.05ms/ batch | BCE: 0.0855 | Accuracy: 76.94% |\n",
      "Epoch 17 | 5360/5360 batches | 34.04ms/ batch | BCE: 0.0859 | Accuracy: 76.85% |\n",
      "---------------------------------------------------------------------------------------------------\n",
      "End of training epoch  17 | time: 182.47s | BCE: 0.0859 | Accuracy: 76.85% |\n",
      "End of validation epoch  17 | time:  3.72s | BCE: 0.0783 | Accuracy: 78.86% |\n",
      "---------------------------------------------------------------------------------------------------\n",
      "***Found Best Training Model***\n",
      "***Best Validation Model Found and Saved***\n",
      "---------------------------------------------------------------------------------------------------\n",
      "Epoch 18 | 1072/5360 batches | 33.97ms/ batch | BCE: 0.0839 | Accuracy: 77.41% |\n"
     ]
    }
   ],
   "source": [
    "txtModel = Model()\n",
    "Settings.print_count = 5 # print 5 count for 1 epoch\n",
    "Settings.epoch_num = 20\n",
    "Settings.batch_size = 32\n",
    "main_train(txtModel, train_loader, validation_loader, \"train.json\", \"model.h5\")"
   ]
  },
  {
   "cell_type": "code",
   "execution_count": null,
   "metadata": {},
   "outputs": [],
   "source": []
  }
 ],
 "metadata": {
  "kernelspec": {
   "display_name": "Python 3",
   "language": "python",
   "name": "python3"
  },
  "language_info": {
   "codemirror_mode": {
    "name": "ipython",
    "version": 3
   },
   "file_extension": ".py",
   "mimetype": "text/x-python",
   "name": "python",
   "nbconvert_exporter": "python",
   "pygments_lexer": "ipython3",
   "version": "3.7.1"
  }
 },
 "nbformat": 4,
 "nbformat_minor": 2
}
