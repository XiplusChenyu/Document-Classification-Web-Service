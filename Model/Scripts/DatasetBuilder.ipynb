{
 "cells": [
  {
   "cell_type": "markdown",
   "metadata": {},
   "source": [
    "# Dataset Builder\n",
    "This file is used to generate dataset used for model training from given csv file"
   ]
  },
  {
   "cell_type": "code",
   "execution_count": 1,
   "metadata": {},
   "outputs": [],
   "source": [
    "import numpy as np\n",
    "import csv\n",
    "import json\n",
    "import random\n",
    "import h5py\n",
    "from Settings import Settings\n",
    "from FileUtils import FileUtils"
   ]
  },
  {
   "cell_type": "markdown",
   "metadata": {},
   "source": [
    "## Read CSV File"
   ]
  },
  {
   "cell_type": "code",
   "execution_count": 2,
   "metadata": {},
   "outputs": [],
   "source": [
    "csv_file = open(Settings.data_path, \"r\")\n",
    "csv_reader = csv.reader(csv_file)\n",
    "\n",
    "data_list = list() # contains data\n",
    "label_dict = dict() # assign index to labels\n",
    "label_index = 0\n",
    "\n",
    "vocab = set()\n",
    "word_freq = dict()\n",
    "sentenceLength = dict()  # used for statistic analysis\n",
    "\n",
    "# notice label indices and word indices are both start from 1\n",
    "\n",
    "for line in csv_reader:\n",
    "    label, doc = line\n",
    "    words = doc.strip().split()\n",
    "    sentenceLength[len(words)] = sentenceLength.get(len(words), 0) + 1\n",
    "    if not label_dict.get(label):\n",
    "        label_index += 1\n",
    "        label_dict[label] = label_index\n",
    "        \n",
    "    for word in words:\n",
    "        vocab.add(word)\n",
    "        word_freq[word] = word_freq.get(word, 0) + 1\n",
    "        \n",
    "    data_list.append([label_dict.get(label), words])\n",
    "        \n",
    "csv_file.close()"
   ]
  },
  {
   "cell_type": "code",
   "execution_count": 3,
   "metadata": {},
   "outputs": [
    {
     "name": "stdout",
     "output_type": "stream",
     "text": [
      "{'DELETION OF INTEREST': 1, 'RETURNED CHECK': 2, 'BILL': 3, 'POLICY CHANGE': 4, 'CANCELLATION NOTICE': 5, 'DECLARATION': 6, 'CHANGE ENDORSEMENT': 7, 'NON-RENEWAL NOTICE': 8, 'BINDER': 9, 'REINSTATEMENT NOTICE': 10, 'EXPIRATION NOTICE': 11, 'INTENT TO CANCEL NOTICE': 12, 'APPLICATION': 13, 'BILL BINDER': 14}\n"
     ]
    }
   ],
   "source": [
    "print(label_dict)"
   ]
  },
  {
   "cell_type": "code",
   "execution_count": 4,
   "metadata": {},
   "outputs": [],
   "source": [
    "label_idx_dict = dict()\n",
    "for key in label_dict:\n",
    "    label_idx_dict[label_dict.get(key)] = key"
   ]
  },
  {
   "cell_type": "code",
   "execution_count": 5,
   "metadata": {},
   "outputs": [
    {
     "name": "stdout",
     "output_type": "stream",
     "text": [
      "{1: 'DELETION OF INTEREST', 2: 'RETURNED CHECK', 3: 'BILL', 4: 'POLICY CHANGE', 5: 'CANCELLATION NOTICE', 6: 'DECLARATION', 7: 'CHANGE ENDORSEMENT', 8: 'NON-RENEWAL NOTICE', 9: 'BINDER', 10: 'REINSTATEMENT NOTICE', 11: 'EXPIRATION NOTICE', 12: 'INTENT TO CANCEL NOTICE', 13: 'APPLICATION', 14: 'BILL BINDER'}\n"
     ]
    }
   ],
   "source": [
    "print(label_idx_dict)"
   ]
  },
  {
   "cell_type": "markdown",
   "metadata": {},
   "source": [
    "## Store label Maps\n",
    "For backup"
   ]
  },
  {
   "cell_type": "code",
   "execution_count": 6,
   "metadata": {},
   "outputs": [],
   "source": [
    "FileUtils.save_dict(label_dict, \"LabelToIndex.json\")\n",
    "FileUtils.save_dict(label_idx_dict, \"IndexToLabel.json\")"
   ]
  },
  {
   "cell_type": "markdown",
   "metadata": {},
   "source": [
    "## Clean vocabulary\n",
    "Since we statistics the freqency, we remove those words rarely show up"
   ]
  },
  {
   "cell_type": "code",
   "execution_count": 7,
   "metadata": {},
   "outputs": [
    {
     "name": "stdout",
     "output_type": "stream",
     "text": [
      "1037934 172658\n"
     ]
    }
   ],
   "source": [
    "word_list = list(vocab)\n",
    "new_vocab = vocab.copy()\n",
    "\n",
    "for word in word_list:\n",
    "    if word_freq.get(word) < 3:  # remove words only occurs twice in our original data\n",
    "        new_vocab.remove(word)\n",
    "print(len(vocab), len(new_vocab))"
   ]
  },
  {
   "cell_type": "code",
   "execution_count": 8,
   "metadata": {},
   "outputs": [],
   "source": [
    "# build word map\n",
    "word_map = dict()\n",
    "word_map[\"UNK\"] = 0  # unknown word\n",
    "word_map[\"PAD\"] = 1  # padding word\n",
    "for i, word in enumerate(list(new_vocab)):\n",
    "    word_map[word] = i + 2\n",
    "\n",
    "new_vocab.add(\"UNK\")\n",
    "new_vocab.add(\"PAD\")\n",
    "# save word map\n",
    "FileUtils.save_dict(word_map, \"WordToIndex.json\")"
   ]
  },
  {
   "cell_type": "code",
   "execution_count": 9,
   "metadata": {},
   "outputs": [
    {
     "name": "stdout",
     "output_type": "stream",
     "text": [
      "172660\n"
     ]
    }
   ],
   "source": [
    "print(len(word_map))"
   ]
  },
  {
   "cell_type": "markdown",
   "metadata": {},
   "source": [
    "## Index Original Data\n"
   ]
  },
  {
   "cell_type": "code",
   "execution_count": 10,
   "metadata": {
    "scrolled": true
   },
   "outputs": [],
   "source": [
    "inplace_list = data_list[:] # copy\n",
    "\n",
    "for label, words in inplace_list:\n",
    "    for i, word in enumerate(words):\n",
    "        words[i] = word_map.get(word, 0)"
   ]
  },
  {
   "cell_type": "code",
   "execution_count": 11,
   "metadata": {
    "scrolled": true
   },
   "outputs": [
    {
     "name": "stdout",
     "output_type": "stream",
     "text": [
      "[1, [105216, 26156, 94360, 53298, 80810, 153337, 23216, 65233, 162768, 153739, 72130, 91321, 18651, 9149, 37808, 49918, 162497, 3433, 80810, 81681, 91321, 41366, 151153, 67070, 38814, 23216, 119413, 104030, 138062, 143687, 6600, 70699, 145427, 131418, 151498, 56227, 120966, 72130, 18651, 0, 62364, 36869, 21771, 166934, 56692, 15084, 99362, 91321, 167276, 29727, 148351, 110728, 88212, 85469, 148459, 103263, 92550, 74063, 138095, 20618, 141453, 105133, 61542, 91321, 153331, 72669, 71634, 133196, 58343, 60575, 70699, 87157, 159040, 119708, 41024, 141017, 148351, 141776, 141453, 2455, 29727, 78119, 148351, 167276, 141453, 110997, 105711, 138095, 29727, 34476, 71634, 162479, 26870, 61707, 141017, 148351, 97277, 29727, 148351, 146624, 78119, 71793, 105216, 94621, 83720, 86710, 34005, 65089, 134722, 87735, 62317, 22563, 79661, 86849, 45010, 35562, 45245, 145856, 61707, 69069, 30927, 1792, 65858, 43924, 71793, 141017, 151955, 0, 168453, 141453, 32001, 0, 52411, 168453, 86849, 45010, 35562, 45245, 145856, 166536, 0, 35867, 131854, 50226, 71793, 22563, 79661, 24655, 87194, 9146, 22210, 63295, 111920, 148249, 148754, 99296, 33061, 90827, 9903, 10931, 82286, 91281, 36273, 98558, 141017, 53179, 86849, 134394, 167690, 40405, 114173, 137200, 120914, 29727, 33061, 90827, 143069, 54480, 105711, 151955, 141017, 6330, 120914, 102430, 149751, 85299, 29727, 33061, 90827, 78119, 36273, 141017, 141017, 78226, 50006, 148351, 86849, 6885, 134394, 148249, 111920, 63295, 148754, 87991, 114173, 141017, 137200, 167690, 40405, 9146, 87194, 24655, 82286, 22210, 141453, 171943, 153337, 29727, 148351, 91321, 22054, 34476, 78119, 155461, 117455, 81814, 20350, 45890, 71634, 141453, 170829, 86849, 148754, 40134, 148351, 29727, 141453, 148351, 78226, 137200, 114173, 40405, 167690, 134394, 29727, 120914, 9146, 87194, 24655, 22210, 114173, 56564, 148249, 111920, 63295, 67244, 135158, 104931, 59391, 33061, 90827, 133196, 59787, 18466, 137200, 105332, 79308, 171530, 86849, 89237, 85887, 93372, 105150, 147205, 164531, 53665, 33061, 90827, 9903, 132483, 78656, 29727, 148351, 1792, 100104, 148351, 120914, 89216, 71793, 94621, 86710, 34005, 65089, 87735, 29727, 58343, 148249, 111920, 63295, 153200, 148351, 29727, 141453, 72130, 51568, 55068, 29354, 39298, 104155, 84353, 65664, 165709, 121877, 10149, 90172, 1792, 23100, 75461, 51751, 117455, 97945, 132429, 154150, 32001, 27341, 146225, 113937, 12502, 114289, 152477, 91281, 113937, 57966, 97016, 134722, 113937, 131729, 57966, 84353, 93391, 167945, 8049, 64693, 113937, 38354, 44575, 114289, 104931, 59391, 135158, 78119, 67244, 157992, 147426, 76570, 29727, 65089, 87735, 71793, 94621, 73929, 56564, 51568, 114173, 70699, 137200, 18466, 59787, 148371, 29727, 11371, 73929, 55068, 26458, 373, 0, 89150, 8790, 48183, 72442, 168453, 86710, 34005, 70419, 141453, 141453, 120917, 42090, 0, 86849, 168453, 94677, 77277, 167690, 373, 92343, 0, 42090, 147426, 114173, 76570, 82226, 43781, 43781, 94963, 94963, 81090, 57943, 89150, 141453, 59153, 39124, 8049, 138143, 10311, 34363, 3955, 168453, 62369, 141453, 104030, 59787, 29727, 147426, 76570, 33061, 104931, 59391, 135158, 67244, 56564, 114173, 137200, 18466, 148371, 11371, 55068, 83720, 83720, 83720, 148511, 83720, 141908, 141908, 141908, 11689, 83720, 158262, 83720, 83720, 0, 45845, 82528, 75874, 95158, 71207, 114173, 82226, 89216, 102492, 78119, 141453, 59787, 32001, 101677]]\n"
     ]
    }
   ],
   "source": [
    "print(inplace_list[0])"
   ]
  },
  {
   "cell_type": "markdown",
   "metadata": {},
   "source": [
    "## Divide documents into chunks"
   ]
  },
  {
   "cell_type": "code",
   "execution_count": 12,
   "metadata": {},
   "outputs": [],
   "source": [
    "import matplotlib.pyplot as plt"
   ]
  },
  {
   "cell_type": "code",
   "execution_count": 13,
   "metadata": {},
   "outputs": [],
   "source": [
    "# we need to determine how to slice the document\n",
    "length = list(sentenceLength.keys())\n",
    "freq = [sentenceLength.get(i) for i in length]"
   ]
  },
  {
   "cell_type": "code",
   "execution_count": 14,
   "metadata": {},
   "outputs": [
    {
     "data": {
      "image/png": "[encoded data removed]",
      "text/plain": [
       "<Figure size 720x360 with 1 Axes>"
      ]
     },
     "metadata": {
      "needs_background": "light"
     },
     "output_type": "display_data"
    },
    {
     "name": "stdout",
     "output_type": "stream",
     "text": [
      "464\n"
     ]
    }
   ],
   "source": [
    "plt.figure(figsize=(10,5))\n",
    "plt.scatter(length, freq, s=1)\n",
    "plt.title(\"Length vs Freq\")\n",
    "plt.show()\n",
    "\n",
    "print(max(freq))"
   ]
  },
  {
   "cell_type": "code",
   "execution_count": 15,
   "metadata": {},
   "outputs": [
    {
     "name": "stdout",
     "output_type": "stream",
     "text": [
      "200\n"
     ]
    }
   ],
   "source": [
    "# so I determined to divide each document to chunks contains 200 words, and padding if length < 200\n",
    "print(Settings.seq_size)"
   ]
  },
  {
   "cell_type": "code",
   "execution_count": 16,
   "metadata": {},
   "outputs": [],
   "source": [
    "records = list() # contains label/chunk pair\n",
    "label_freq_dict = dict() # to see how many chunks belongs to one label\n",
    "\n",
    "for label, words in inplace_list:\n",
    "    sentences = FileUtils.divide_sentence(words, Settings.seq_size)\n",
    "    for s in sentences:\n",
    "        records.append([label, s])\n",
    "        label_freq_dict[label] = label_freq_dict.get(label, list()) + [s]"
   ]
  },
  {
   "cell_type": "code",
   "execution_count": 17,
   "metadata": {},
   "outputs": [
    {
     "name": "stdout",
     "output_type": "stream",
     "text": [
      "133989\n"
     ]
    }
   ],
   "source": [
    "print(len(records))"
   ]
  },
  {
   "cell_type": "code",
   "execution_count": 18,
   "metadata": {},
   "outputs": [
    {
     "data": {
      "image/png": "[encoded data removed]",
      "text/plain": [
       "<Figure size 720x360 with 1 Axes>"
      ]
     },
     "metadata": {
      "needs_background": "light"
     },
     "output_type": "display_data"
    }
   ],
   "source": [
    "plt.figure(figsize=(10,5))\n",
    "x = list(label_freq_dict.keys())\n",
    "y = [len(label_freq_dict.get(key)) for key in x]\n",
    "\n",
    "plt.bar(range(1, 15), y, \n",
    "        align='center', \n",
    "        color= (0,0,0,0),\n",
    "        edgecolor = 'r',\n",
    "        label='label vs Freq')\n",
    "plt.show()\n"
   ]
  },
  {
   "cell_type": "code",
   "execution_count": 20,
   "metadata": {},
   "outputs": [
    {
     "name": "stdout",
     "output_type": "stream",
     "text": [
      "[495, 750, 1020, 1132, 1150, 1426, 1734, 2989, 5086, 5493, 15437, 23681, 26147, 47449]\n"
     ]
    }
   ],
   "source": [
    "print(sorted(y))"
   ]
  },
  {
   "cell_type": "markdown",
   "metadata": {},
   "source": [
    "### From the bar chart we can see a serious inbalance between different labels\n",
    "\n",
    "I will choose 1000 chunks for each label to build model train sets"
   ]
  },
  {
   "cell_type": "code",
   "execution_count": 21,
   "metadata": {},
   "outputs": [],
   "source": [
    "records = list() # discard the old one\n",
    "for key in label_freq_dict:\n",
    "    current_choose = label_freq_dict.get(key)[: 2000]\n",
    "    item = [[key, words] for words in current_choose]\n",
    "    records += item"
   ]
  },
  {
   "cell_type": "code",
   "execution_count": 22,
   "metadata": {},
   "outputs": [
    {
     "name": "stdout",
     "output_type": "stream",
     "text": [
      "[1, [105216, 26156, 94360, 53298, 80810, 153337, 23216, 65233, 162768, 153739, 72130, 91321, 18651, 9149, 37808, 49918, 162497, 3433, 80810, 81681, 91321, 41366, 151153, 67070, 38814, 23216, 119413, 104030, 138062, 143687, 6600, 70699, 145427, 131418, 151498, 56227, 120966, 72130, 18651, 0, 62364, 36869, 21771, 166934, 56692, 15084, 99362, 91321, 167276, 29727, 148351, 110728, 88212, 85469, 148459, 103263, 92550, 74063, 138095, 20618, 141453, 105133, 61542, 91321, 153331, 72669, 71634, 133196, 58343, 60575, 70699, 87157, 159040, 119708, 41024, 141017, 148351, 141776, 141453, 2455, 29727, 78119, 148351, 167276, 141453, 110997, 105711, 138095, 29727, 34476, 71634, 162479, 26870, 61707, 141017, 148351, 97277, 29727, 148351, 146624, 78119, 71793, 105216, 94621, 83720, 86710, 34005, 65089, 134722, 87735, 62317, 22563, 79661, 86849, 45010, 35562, 45245, 145856, 61707, 69069, 30927, 1792, 65858, 43924, 71793, 141017, 151955, 0, 168453, 141453, 32001, 0, 52411, 168453, 86849, 45010, 35562, 45245, 145856, 166536, 0, 35867, 131854, 50226, 71793, 22563, 79661, 24655, 87194, 9146, 22210, 63295, 111920, 148249, 148754, 99296, 33061, 90827, 9903, 10931, 82286, 91281, 36273, 98558, 141017, 53179, 86849, 134394, 167690, 40405, 114173, 137200, 120914, 29727, 33061, 90827, 143069, 54480, 105711, 151955, 141017, 6330, 120914, 102430, 149751, 85299, 29727, 33061, 90827, 78119, 36273, 141017, 141017, 78226, 50006, 148351, 86849, 6885, 134394, 148249]]\n"
     ]
    }
   ],
   "source": [
    "print(records[0])"
   ]
  },
  {
   "cell_type": "markdown",
   "metadata": {},
   "source": [
    "## Build dataset"
   ]
  },
  {
   "cell_type": "code",
   "execution_count": 23,
   "metadata": {},
   "outputs": [],
   "source": [
    "total_size = len(records)\n",
    "train_size = int(total_size * 0.8)\n",
    "valid_size = int(total_size * 0.1)\n",
    "test_size = total_size - train_size - valid_size"
   ]
  },
  {
   "cell_type": "code",
   "execution_count": 24,
   "metadata": {},
   "outputs": [
    {
     "name": "stdout",
     "output_type": "stream",
     "text": [
      "17365 2172 2170\n"
     ]
    }
   ],
   "source": [
    "print(train_size, test_size, valid_size)"
   ]
  },
  {
   "cell_type": "code",
   "execution_count": 25,
   "metadata": {},
   "outputs": [],
   "source": [
    "index_list = [i for i in range(total_size)]\n",
    "random.seed(516)\n",
    "random.shuffle(index_list)\n",
    "train_indice = index_list[:train_size]\n",
    "valid_indice = index_list[train_size: train_size + valid_size]\n",
    "test_indice = index_list[-test_size:]"
   ]
  },
  {
   "cell_type": "code",
   "execution_count": 28,
   "metadata": {},
   "outputs": [],
   "source": [
    "def build_set(set_name, indice, all_data):\n",
    "    def create_label(label_index):\n",
    "        \"\"\"\n",
    "        Turn label scalar into a one hot vector\n",
    "        \"\"\"\n",
    "        res = [0 for i in range(14)]\n",
    "        res[label_index-1] = 1 # because we start at 1\n",
    "        return res\n",
    "    \n",
    "    n = len(indice)\n",
    "    dataset = h5py.File(set_name, \"a\")\n",
    "    dataset.create_dataset('label', shape=(n, 14), dtype=int)\n",
    "    dataset.create_dataset('chunk', shape=(n, Settings.seq_size), dtype=int)\n",
    "    \n",
    "    for i, index in enumerate(indice):\n",
    "        label, words = all_data[index]\n",
    "        dataset[\"label\"][i] = create_label(label)\n",
    "        dataset[\"chunk\"][i] = words\n",
    "    dataset.close()\n",
    "    return      "
   ]
  },
  {
   "cell_type": "code",
   "execution_count": 29,
   "metadata": {},
   "outputs": [],
   "source": [
    "build_set(Settings.train_path, train_indice, records)"
   ]
  },
  {
   "cell_type": "code",
   "execution_count": 30,
   "metadata": {},
   "outputs": [],
   "source": [
    "build_set(Settings.valid_path, valid_indice, records)"
   ]
  },
  {
   "cell_type": "code",
   "execution_count": 31,
   "metadata": {},
   "outputs": [],
   "source": [
    "build_set(Settings.test_path, test_indice, records)"
   ]
  },
  {
   "cell_type": "code",
   "execution_count": 32,
   "metadata": {},
   "outputs": [
    {
     "name": "stdout",
     "output_type": "stream",
     "text": [
      "[[0 0 0 0 0 0 1 0 0 0 0 0 0 0]\n",
      " [0 0 0 1 0 0 0 0 0 0 0 0 0 0]\n",
      " [0 0 0 0 0 1 0 0 0 0 0 0 0 0]\n",
      " [0 0 0 0 0 0 0 0 0 1 0 0 0 0]\n",
      " [0 0 1 0 0 0 0 0 0 0 0 0 0 0]]\n",
      "[ 23622  29727 141453 116789  29727  33963  49534 141453  87175  34476\n",
      "  29727 140865 163896 141017  89150 162768  27295  34476   8468 165257\n",
      " 143618  89766   8304  75851  42581 108757 110488      0 165257 102080\n",
      " 130181  52887  27144  28912  10462 140865  99541  89767 141017  29727\n",
      " 134920  71470 108757 110488 129961 130822  99541 104081 126100 102204\n",
      "  19607 126105 112141 160730 108757 110488 143258 104931 135158  67244\n",
      " 134722   8443 134897 114173 137200  24480  18466  63694 143618  99541\n",
      "      0      0  89150  89013 165647 125367  91281 143784 105216  84645\n",
      " 135907  25042 165257  82468 155140 119631  78119      0 119631      0\n",
      "      0      0   6885  37808  25042  55953      1      1      1      1\n",
      "      1      1      1      1      1      1      1      1      1      1\n",
      "      1      1      1      1      1      1      1      1      1      1\n",
      "      1      1      1      1      1      1      1      1      1      1\n",
      "      1      1      1      1      1      1      1      1      1      1\n",
      "      1      1      1      1      1      1      1      1      1      1\n",
      "      1      1      1      1      1      1      1      1      1      1\n",
      "      1      1      1      1      1      1      1      1      1      1\n",
      "      1      1      1      1      1      1      1      1      1      1\n",
      "      1      1      1      1      1      1      1      1      1      1\n",
      "      1      1      1      1      1      1      1      1      1      1]\n"
     ]
    }
   ],
   "source": [
    "t_set = h5py.File(Settings.test_path, 'r')\n",
    "print(t_set['label'][:5])\n",
    "print(t_set['chunk'][1])"
   ]
  }
 ],
 "metadata": {
  "kernelspec": {
   "display_name": "Python 3",
   "language": "python",
   "name": "python3"
  },
  "language_info": {
   "codemirror_mode": {
    "name": "ipython",
    "version": 3
   },
   "file_extension": ".py",
   "mimetype": "text/x-python",
   "name": "python",
   "nbconvert_exporter": "python",
   "pygments_lexer": "ipython3",
   "version": "3.7.1"
  }
 },
 "nbformat": 4,
 "nbformat_minor": 2
}
