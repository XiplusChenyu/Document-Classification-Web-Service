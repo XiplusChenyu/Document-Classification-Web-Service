{
 "cells": [
  {
   "cell_type": "markdown",
   "metadata": {},
   "source": [
    "# Dataset Builder\n",
    "This file is used to generate dataset used for model training from given csv file"
   ]
  },
  {
   "cell_type": "code",
   "execution_count": 1,
   "metadata": {},
   "outputs": [],
   "source": [
    "import numpy as np\n",
    "import csv\n",
    "import json\n",
    "import random\n",
    "import h5py\n",
    "from Settings import Settings\n",
    "from FileUtils import FileUtils"
   ]
  },
  {
   "cell_type": "markdown",
   "metadata": {},
   "source": [
    "## Read CSV File"
   ]
  },
  {
   "cell_type": "code",
   "execution_count": 2,
   "metadata": {},
   "outputs": [],
   "source": [
    "csv_file = open(Settings.data_path, \"r\")\n",
    "csv_reader = csv.reader(csv_file)\n",
    "\n",
    "data_list = list() # contains data\n",
    "label_dict = dict() # assign index to labels\n",
    "label_index = 0\n",
    "\n",
    "vocab = set()\n",
    "word_freq = dict()\n",
    "sentenceLength = dict()  # used for statistic analysis\n",
    "\n",
    "# notice label indices and word indices are both start from 1\n",
    "\n",
    "for line in csv_reader:\n",
    "    label, doc = line\n",
    "    words = doc.strip().split()\n",
    "    sentenceLength[len(words)] = sentenceLength.get(len(words), 0) + 1\n",
    "    if not label_dict.get(label):\n",
    "        label_index += 1\n",
    "        label_dict[label] = label_index\n",
    "        \n",
    "    for word in words:\n",
    "        vocab.add(word)\n",
    "        word_freq[word] = word_freq.get(word, 0) + 1\n",
    "        \n",
    "    data_list.append([label_dict.get(label), words])\n",
    "        \n",
    "csv_file.close()"
   ]
  },
  {
   "cell_type": "code",
   "execution_count": 3,
   "metadata": {},
   "outputs": [
    {
     "name": "stdout",
     "output_type": "stream",
     "text": [
      "{'DELETION OF INTEREST': 1, 'RETURNED CHECK': 2, 'BILL': 3, 'POLICY CHANGE': 4, 'CANCELLATION NOTICE': 5, 'DECLARATION': 6, 'CHANGE ENDORSEMENT': 7, 'NON-RENEWAL NOTICE': 8, 'BINDER': 9, 'REINSTATEMENT NOTICE': 10, 'EXPIRATION NOTICE': 11, 'INTENT TO CANCEL NOTICE': 12, 'APPLICATION': 13, 'BILL BINDER': 14}\n"
     ]
    }
   ],
   "source": [
    "print(label_dict)"
   ]
  },
  {
   "cell_type": "code",
   "execution_count": 4,
   "metadata": {},
   "outputs": [],
   "source": [
    "label_idx_dict = dict()\n",
    "for key in label_dict:\n",
    "    label_idx_dict[label_dict.get(key)] = key"
   ]
  },
  {
   "cell_type": "code",
   "execution_count": 5,
   "metadata": {},
   "outputs": [
    {
     "name": "stdout",
     "output_type": "stream",
     "text": [
      "{1: 'DELETION OF INTEREST', 2: 'RETURNED CHECK', 3: 'BILL', 4: 'POLICY CHANGE', 5: 'CANCELLATION NOTICE', 6: 'DECLARATION', 7: 'CHANGE ENDORSEMENT', 8: 'NON-RENEWAL NOTICE', 9: 'BINDER', 10: 'REINSTATEMENT NOTICE', 11: 'EXPIRATION NOTICE', 12: 'INTENT TO CANCEL NOTICE', 13: 'APPLICATION', 14: 'BILL BINDER'}\n"
     ]
    }
   ],
   "source": [
    "print(label_idx_dict)"
   ]
  },
  {
   "cell_type": "markdown",
   "metadata": {},
   "source": [
    "## Store label Maps\n",
    "For backup"
   ]
  },
  {
   "cell_type": "code",
   "execution_count": 6,
   "metadata": {},
   "outputs": [],
   "source": [
    "FileUtils.save_dict(label_dict, \"LabelToIndex.json\")\n",
    "FileUtils.save_dict(label_idx_dict, \"IndexToLabel.json\")"
   ]
  },
  {
   "cell_type": "markdown",
   "metadata": {},
   "source": [
    "## Clean vocabulary\n",
    "Since we statistics the freqency, we remove those words rarely show up"
   ]
  },
  {
   "cell_type": "code",
   "execution_count": 7,
   "metadata": {},
   "outputs": [],
   "source": [
    "word_list = list(vocab)\n",
    "for word in word_list:\n",
    "    if word_freq.get(word) < 2:  # remove words only occurs once\n",
    "        vocab.remove(word)"
   ]
  },
  {
   "cell_type": "code",
   "execution_count": 8,
   "metadata": {},
   "outputs": [],
   "source": [
    "# build word map\n",
    "word_map = dict()\n",
    "word_map[\"UNK\"] = 0  # unknown word\n",
    "word_map[\"PAD\"] = 1  # padding word\n",
    "for i, word in enumerate(list(vocab)):\n",
    "    word_map[word] = i + 2\n",
    "\n",
    "vocab.add(\"UNK\")\n",
    "vocab.add(\"PAD\")\n",
    "# save word map\n",
    "FileUtils.save_dict(word_map, \"WordToIndex.json\")"
   ]
  },
  {
   "cell_type": "markdown",
   "metadata": {},
   "source": [
    "## Index Original Data\n"
   ]
  },
  {
   "cell_type": "code",
   "execution_count": 9,
   "metadata": {
    "scrolled": true
   },
   "outputs": [],
   "source": [
    "for label, words in data_list:\n",
    "    for i, word in enumerate(words):\n",
    "        words[i] = word_map.get(word, 0)"
   ]
  },
  {
   "cell_type": "markdown",
   "metadata": {},
   "source": [
    "## Divide documents into chunks"
   ]
  },
  {
   "cell_type": "code",
   "execution_count": 10,
   "metadata": {},
   "outputs": [],
   "source": [
    "# we need to determine how to slice the document\n",
    "length = list(sentenceLength.keys())\n",
    "freq = [sentenceLength.get(i) for i in length]"
   ]
  },
  {
   "cell_type": "code",
   "execution_count": 11,
   "metadata": {},
   "outputs": [],
   "source": [
    "import matplotlib.pyplot as plt"
   ]
  },
  {
   "cell_type": "code",
   "execution_count": 12,
   "metadata": {},
   "outputs": [
    {
     "data": {
      "image/png": "[encoded data removed]",
      "text/plain": [
       "<Figure size 432x288 with 1 Axes>"
      ]
     },
     "metadata": {
      "needs_background": "light"
     },
     "output_type": "display_data"
    },
    {
     "name": "stdout",
     "output_type": "stream",
     "text": [
      "464\n"
     ]
    }
   ],
   "source": [
    "plt.scatter(length, freq, s=1)\n",
    "plt.show()\n",
    "print(max(freq))"
   ]
  },
  {
   "cell_type": "code",
   "execution_count": 13,
   "metadata": {},
   "outputs": [
    {
     "name": "stdout",
     "output_type": "stream",
     "text": [
      "200\n"
     ]
    }
   ],
   "source": [
    "# so I determined to divide each document to chunks contains 200 words, and padding if length < 200\n",
    "print(Settings.seq_size)"
   ]
  },
  {
   "cell_type": "code",
   "execution_count": 14,
   "metadata": {},
   "outputs": [],
   "source": [
    "records = list()\n",
    "for label, words in data_list:\n",
    "    sentences = FileUtils.divide_sentence(words, Settings.seq_size)\n",
    "    for s in sentences:\n",
    "        records.append([label, s])"
   ]
  },
  {
   "cell_type": "code",
   "execution_count": 15,
   "metadata": {},
   "outputs": [
    {
     "name": "stdout",
     "output_type": "stream",
     "text": [
      "133989\n"
     ]
    }
   ],
   "source": [
    "print(len(records))"
   ]
  },
  {
   "cell_type": "code",
   "execution_count": 16,
   "metadata": {},
   "outputs": [
    {
     "name": "stdout",
     "output_type": "stream",
     "text": [
      "[1, [252340, 270020, 231952, 42995, 177029, 121779, 256593, 7887, 35773, 56023, 258524, 200874, 286144, 213094, 71199, 219665, 147924, 176474, 177029, 241491, 200874, 49830, 157410, 86839, 14031, 256593, 284937, 25418, 226098, 154142, 120378, 166719, 295541, 91005, 47795, 105383, 261583, 258524, 286144, 0, 125558, 16462, 135092, 281306, 181878, 299051, 6329, 200874, 151435, 39892, 117442, 269440, 267813, 98927, 280725, 7868, 122346, 62171, 183417, 258711, 16490, 726, 254115, 200874, 42501, 91152, 107111, 223237, 130833, 84894, 166719, 205112, 272229, 96910, 181066, 221648, 117442, 32423, 16490, 254217, 39892, 261808, 117442, 151435, 16490, 212543, 56902, 183417, 39892, 58595, 107111, 244824, 182721, 81029, 221648, 117442, 292303, 39892, 117442, 59483, 261808, 77662, 252340, 44132, 7747, 167861, 267249, 266063, 167258, 20561, 217573, 209326, 67170, 76879, 101213, 265594, 73122, 78447, 81029, 249597, 134722, 264529, 126296, 71253, 77662, 221648, 213582, 0, 48517, 16490, 250615, 139016, 278730, 48517, 76879, 101213, 265594, 73122, 78447, 45798, 76571, 109650, 200032, 220902, 77662, 209326, 67170, 124999, 10698, 41287, 145392, 61782, 156432, 245216, 271817, 271108, 269386, 157545, 148879, 85082, 38626, 15634, 178066, 136010, 221648, 280176, 76879, 281229, 148666, 57530, 132534, 96467, 51798, 39892, 269386, 157545, 173763, 73654, 56902, 213582, 221648, 51036, 51798, 14677, 27582, 33388, 39892, 269386, 157545, 261808, 178066, 221648, 221648, 110209, 71806, 117442, 76879, 205683, 281229, 245216]]\n"
     ]
    }
   ],
   "source": [
    "print(records[0])"
   ]
  },
  {
   "cell_type": "markdown",
   "metadata": {},
   "source": [
    "## Build dataset"
   ]
  },
  {
   "cell_type": "code",
   "execution_count": 17,
   "metadata": {},
   "outputs": [],
   "source": [
    "total_size = len(records)\n",
    "train_size = int(total_size * 0.8)\n",
    "valid_size = int(total_size * 0.1)\n",
    "test_size = total_size - train_size - valid_size"
   ]
  },
  {
   "cell_type": "code",
   "execution_count": 18,
   "metadata": {},
   "outputs": [
    {
     "name": "stdout",
     "output_type": "stream",
     "text": [
      "107191 13400 13398\n"
     ]
    }
   ],
   "source": [
    "print(train_size, test_size, valid_size)"
   ]
  },
  {
   "cell_type": "code",
   "execution_count": 19,
   "metadata": {},
   "outputs": [],
   "source": [
    "index_list = [i for i in range(total_size)]\n",
    "random.seed(516)\n",
    "random.shuffle(index_list)\n",
    "train_indice = index_list[:train_size]\n",
    "valid_indice = index_list[train_size: train_size + valid_size]\n",
    "test_indice = index_list[-test_size:]"
   ]
  },
  {
   "cell_type": "code",
   "execution_count": 20,
   "metadata": {},
   "outputs": [],
   "source": [
    "def build_set(set_name, indice, all_data):\n",
    "    def create_label(label_index):\n",
    "        \"\"\"\n",
    "        Turn label scalar into a one hot vector\n",
    "        \"\"\"\n",
    "        res = [0 for i in range(14)]\n",
    "        res[label_index-1] = 1 # because we start at 1\n",
    "        return res\n",
    "    \n",
    "    n = len(indice)\n",
    "    dataset = h5py.File(set_name, \"a\")\n",
    "    dataset.create_dataset('label', shape=(n, 14), dtype=int)\n",
    "    dataset.create_dataset('chunk', shape=(n, Settings.seq_size), dtype=int)\n",
    "    \n",
    "    for i, index in enumerate(indice):\n",
    "        label, words = all_data[index]\n",
    "        dataset[\"label\"][i] = create_label(label)\n",
    "        dataset[\"chunk\"][i] = words\n",
    "    dataset.close()\n",
    "    return      "
   ]
  },
  {
   "cell_type": "code",
   "execution_count": 21,
   "metadata": {},
   "outputs": [],
   "source": [
    "build_set(Settings.train_path, train_indice, records)"
   ]
  },
  {
   "cell_type": "code",
   "execution_count": 22,
   "metadata": {},
   "outputs": [],
   "source": [
    "build_set(Settings.valid_path, valid_indice, records)"
   ]
  },
  {
   "cell_type": "code",
   "execution_count": 23,
   "metadata": {},
   "outputs": [],
   "source": [
    "build_set(Settings.test_path, test_indice, records)"
   ]
  },
  {
   "cell_type": "code",
   "execution_count": 26,
   "metadata": {},
   "outputs": [
    {
     "name": "stdout",
     "output_type": "stream",
     "text": [
      "[[0 0 0 0 0 0 0 0 1 0 0 0 0 0]\n",
      " [0 0 0 0 1 0 0 0 0 0 0 0 0 0]\n",
      " [0 0 1 0 0 0 0 0 0 0 0 0 0 0]\n",
      " [0 0 0 0 0 0 0 0 1 0 0 0 0 0]\n",
      " [0 0 1 0 0 0 0 0 0 0 0 0 0 0]]\n",
      "[287556  94680 298785 228076 101661 216246  84356 268894  22879  81019\n",
      "  27582 221648  71253  71253  54522 205673  18926 181971  58131      0\n",
      " 250825 211724  65161 135639 182399  84356  78977 292239 185147  62530\n",
      " 187528  70935 175527 211885      0 135639 269386 217262   7747  99965\n",
      "  44132 232673 211724 173763  68540 115622  84356 147517  13368 277622\n",
      "  62530 269386 175527  38998    478   8432 207278  99965 291491 210340\n",
      "  84356 281310 243297   8432 230373 280248  88278 118101      0  99965\n",
      " 147517 185147 175527 143406  84356 290461 210340 262307  62530 276047\n",
      "  86831 147936 246000 268600 196521 147517   8432  35203  33377  84356\n",
      " 275760  75919 277350 236452 200660 168036  28154 269386  84356  27251\n",
      "   3729 211724 267392 157982 270864  84356 262532  84356 269386 173763\n",
      " 101661  84356 185147 300157  84356      0 158029 291081 233573 291133\n",
      " 179622 293526 204404 232673 155069  35203  84356 147517 135639 255326\n",
      " 210340  99965   7747 175527 136275 128904      0  84356 269386  90002\n",
      " 196521  84356  62530  35203 293153 190852 248192  97127 272167  18926\n",
      " 175527  96161  62530 208591 147517  53950  40719      0 136031 269386\n",
      " 183594 142823 158029 147716 214059  84356 175527   7747  84356 173763\n",
      " 269386  62530 144690 234187  36149  18926  31116 270864  35203  88278\n",
      "      0 136031  84356  62530  84356 136031 255941 231085 138368 285967\n",
      " 211724  34845  38095  38998 252024 211724 127412 185147 144999  62530]\n"
     ]
    }
   ],
   "source": [
    "t_set = h5py.File(Settings.test_path, 'r')\n",
    "print(t_set['label'][:5])\n",
    "print(t_set['chunk'][1])"
   ]
  }
 ],
 "metadata": {
  "kernelspec": {
   "display_name": "Python 3",
   "language": "python",
   "name": "python3"
  },
  "language_info": {
   "codemirror_mode": {
    "name": "ipython",
    "version": 3
   },
   "file_extension": ".py",
   "mimetype": "text/x-python",
   "name": "python",
   "nbconvert_exporter": "python",
   "pygments_lexer": "ipython3",
   "version": "3.7.3"
  }
 },
 "nbformat": 4,
 "nbformat_minor": 2
}
