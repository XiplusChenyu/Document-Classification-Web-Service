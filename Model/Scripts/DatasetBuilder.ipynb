{
 "cells": [
  {
   "cell_type": "markdown",
   "metadata": {},
   "source": [
    "# Dataset Builder\n",
    "This file is used to generate dataset used for model training from given csv file"
   ]
  },
  {
   "cell_type": "code",
   "execution_count": 2,
   "metadata": {},
   "outputs": [],
   "source": [
    "import numpy as np\n",
    "import csv\n",
    "import json\n",
    "import random\n",
    "import h5py\n",
    "from Settings import Settings\n",
    "from FileUtils import FileUtils"
   ]
  },
  {
   "cell_type": "markdown",
   "metadata": {},
   "source": [
    "## Read CSV File"
   ]
  },
  {
   "cell_type": "code",
   "execution_count": 3,
   "metadata": {},
   "outputs": [],
   "source": [
    "csv_file = open(Settings.data_path, \"r\")\n",
    "csv_reader = csv.reader(csv_file)\n",
    "\n",
    "data_list = list() # contains data\n",
    "label_dict = dict() # assign index to labels\n",
    "label_index = 0\n",
    "\n",
    "vocab = set()\n",
    "word_freq = dict()\n",
    "sentenceLength = dict()  # used for statistic analysis\n",
    "\n",
    "# notice label indices and word indices are both start from 1\n",
    "\n",
    "for line in csv_reader:\n",
    "    label, doc = line\n",
    "    words = doc.strip().split()\n",
    "    sentenceLength[len(words)] = sentenceLength.get(len(words), 0) + 1\n",
    "    if not label_dict.get(label):\n",
    "        label_index += 1\n",
    "        label_dict[label] = label_index\n",
    "        \n",
    "    for word in words:\n",
    "        vocab.add(word)\n",
    "        word_freq[word] = word_freq.get(word, 0) + 1\n",
    "        \n",
    "    data_list.append([label_dict.get(label), words])\n",
    "        \n",
    "csv_file.close()"
   ]
  },
  {
   "cell_type": "code",
   "execution_count": 4,
   "metadata": {},
   "outputs": [
    {
     "name": "stdout",
     "output_type": "stream",
     "text": [
      "{'DELETION OF INTEREST': 1, 'RETURNED CHECK': 2, 'BILL': 3, 'POLICY CHANGE': 4, 'CANCELLATION NOTICE': 5, 'DECLARATION': 6, 'CHANGE ENDORSEMENT': 7, 'NON-RENEWAL NOTICE': 8, 'BINDER': 9, 'REINSTATEMENT NOTICE': 10, 'EXPIRATION NOTICE': 11, 'INTENT TO CANCEL NOTICE': 12, 'APPLICATION': 13, 'BILL BINDER': 14}\n"
     ]
    }
   ],
   "source": [
    "print(label_dict)"
   ]
  },
  {
   "cell_type": "code",
   "execution_count": 5,
   "metadata": {},
   "outputs": [],
   "source": [
    "label_idx_dict = dict()\n",
    "for key in label_dict:\n",
    "    label_idx_dict[label_dict.get(key)] = key"
   ]
  },
  {
   "cell_type": "code",
   "execution_count": 6,
   "metadata": {},
   "outputs": [
    {
     "name": "stdout",
     "output_type": "stream",
     "text": [
      "{1: 'DELETION OF INTEREST', 2: 'RETURNED CHECK', 3: 'BILL', 4: 'POLICY CHANGE', 5: 'CANCELLATION NOTICE', 6: 'DECLARATION', 7: 'CHANGE ENDORSEMENT', 8: 'NON-RENEWAL NOTICE', 9: 'BINDER', 10: 'REINSTATEMENT NOTICE', 11: 'EXPIRATION NOTICE', 12: 'INTENT TO CANCEL NOTICE', 13: 'APPLICATION', 14: 'BILL BINDER'}\n"
     ]
    }
   ],
   "source": [
    "print(label_idx_dict)"
   ]
  },
  {
   "cell_type": "markdown",
   "metadata": {},
   "source": [
    "## Store label Maps\n",
    "For backup"
   ]
  },
  {
   "cell_type": "code",
   "execution_count": 7,
   "metadata": {},
   "outputs": [],
   "source": [
    "FileUtils.save_dict(label_dict, \"LabelToIndex.json\")\n",
    "FileUtils.save_dict(label_idx_dict, \"IndexToLabel.json\")"
   ]
  },
  {
   "cell_type": "markdown",
   "metadata": {},
   "source": [
    "## Clean vocabulary\n",
    "Since we statistics the freqency, we remove those words rarely show up"
   ]
  },
  {
   "cell_type": "code",
   "execution_count": 12,
   "metadata": {},
   "outputs": [
    {
     "name": "stdout",
     "output_type": "stream",
     "text": [
      "1037934 300995\n"
     ]
    }
   ],
   "source": [
    "word_list = list(vocab)\n",
    "new_vocab = vocab.copy()\n",
    "for word in word_list:\n",
    "    if word_freq.get(word) < 2:  # remove words only occurs twice in our original data\n",
    "        new_vocab.remove(word)\n",
    "print(len(vocab), len(new_vocab))"
   ]
  },
  {
   "cell_type": "code",
   "execution_count": 14,
   "metadata": {},
   "outputs": [],
   "source": [
    "# build word map\n",
    "word_map = dict()\n",
    "word_map[\"UNK\"] = 0  # unknown word\n",
    "word_map[\"PAD\"] = 1  # padding word\n",
    "for i, word in enumerate(sorted(list(new_vocab))): # ensure we generate same map each time\n",
    "    word_map[word] = i + 2\n",
    "\n",
    "new_vocab.add(\"UNK\")\n",
    "new_vocab.add(\"PAD\")\n",
    "# save word map\n",
    "FileUtils.save_dict(word_map, \"WordToIndex.json\")"
   ]
  },
  {
   "cell_type": "code",
   "execution_count": 15,
   "metadata": {},
   "outputs": [
    {
     "name": "stdout",
     "output_type": "stream",
     "text": [
      "300997\n"
     ]
    }
   ],
   "source": [
    "print(len(word_map))"
   ]
  },
  {
   "cell_type": "code",
   "execution_count": 16,
   "metadata": {},
   "outputs": [
    {
     "data": {
      "text/plain": [
       "182985"
      ]
     },
     "execution_count": 16,
     "metadata": {},
     "output_type": "execute_result"
    }
   ],
   "source": [
    "word_map.get(\"9b6646b690ff\")"
   ]
  },
  {
   "cell_type": "markdown",
   "metadata": {},
   "source": [
    "## Index Original Data\n"
   ]
  },
  {
   "cell_type": "code",
   "execution_count": 17,
   "metadata": {
    "scrolled": true
   },
   "outputs": [],
   "source": [
    "inplace_list = data_list[:] # copy\n",
    "\n",
    "for label, words in inplace_list:\n",
    "    for i, word in enumerate(words):\n",
    "        words[i] = word_map.get(word, 0)"
   ]
  },
  {
   "cell_type": "code",
   "execution_count": 18,
   "metadata": {
    "scrolled": true
   },
   "outputs": [
    {
     "name": "stdout",
     "output_type": "stream",
     "text": [
      "[1, [264034, 252726, 109345, 279100, 104751, 278019, 34145, 147553, 296178, 125804, 99304, 44420, 164601, 58683, 290811, 222466, 32112, 210189, 104751, 244038, 44420, 211770, 262000, 22763, 30566, 34145, 45226, 215471, 284579, 37300, 269112, 126016, 114056, 65145, 245076, 105682, 184551, 99304, 164601, 0, 142995, 44069, 213888, 159733, 73426, 10873, 77787, 44420, 27845, 248974, 146831, 283820, 47766, 73857, 265640, 286277, 277823, 244780, 257328, 14193, 103891, 246874, 59204, 44420, 39572, 285502, 257068, 184641, 125223, 78985, 126016, 164808, 215991, 206533, 226964, 238876, 146831, 180663, 103891, 300870, 248974, 92120, 146831, 27845, 103891, 158819, 54069, 257328, 248974, 22660, 257068, 206196, 250441, 147756, 238876, 146831, 145900, 248974, 146831, 222276, 92120, 229822, 264034, 87967, 125992, 242649, 48001, 187214, 280862, 293599, 173736, 9546, 276034, 164091, 297029, 149060, 81126, 61336, 147756, 73207, 84223, 71741, 96574, 64735, 229822, 238876, 218099, 0, 18917, 103891, 209286, 11190, 56551, 18917, 164091, 297029, 149060, 81126, 61336, 246692, 295759, 37039, 126957, 274452, 229822, 9546, 276034, 210143, 39115, 48890, 100500, 218642, 92068, 152254, 3311, 272302, 168749, 79181, 28338, 55184, 236535, 283498, 262218, 3486, 238876, 127071, 164091, 274703, 229813, 82348, 3880, 208309, 262348, 248974, 168749, 79181, 219807, 77679, 54069, 218099, 238876, 92488, 262348, 41446, 6149, 246877, 248974, 168749, 79181, 92120, 262218, 238876, 238876, 288301, 128284, 146831, 164091, 250574, 274703, 152254, 92068, 218642, 3311, 182296, 3880, 238876, 208309, 229813, 82348, 48890, 39115, 210143, 236535, 100500, 103891, 242380, 278019, 248974, 146831, 44420, 251251, 22660, 92120, 168671, 198097, 234634, 196193, 292300, 257068, 103891, 199426, 164091, 3311, 142235, 146831, 248974, 103891, 146831, 288301, 208309, 3880, 82348, 229813, 274703, 248974, 262348, 48890, 39115, 210143, 100500, 3880, 137929, 152254, 92068, 218642, 191956, 79193, 173507, 114926, 168749, 79181, 184641, 127731, 55339, 208309, 18251, 103003, 264729, 164091, 57713, 209795, 230579, 136934, 94634, 239907, 183635, 168749, 79181, 28338, 215775, 136749, 248974, 146831, 71741, 159244, 146831, 262348, 1205, 229822, 87967, 242649, 48001, 187214, 293599, 248974, 125223, 152254, 92068, 218642, 116098, 146831, 248974, 103891, 99304, 31439, 50854, 119938, 32056, 166805, 33211, 139500, 131385, 273875, 162088, 114234, 71741, 171223, 77780, 223776, 198097, 6146, 78865, 32304, 209286, 86995, 88468, 102542, 108220, 115948, 127611, 283498, 102542, 256842, 300727, 280862, 102542, 299105, 256842, 33211, 52116, 278937, 50036, 123432, 102542, 185538, 178565, 115948, 173507, 114926, 79193, 92120, 191956, 45877, 182523, 413, 248974, 187214, 293599, 229822, 87967, 111568, 137929, 31439, 3880, 126016, 208309, 55339, 127731, 190572, 248974, 72263, 111568, 50854, 147331, 218731, 206017, 128017, 142988, 17917, 244775, 18917, 242649, 48001, 122246, 103891, 103891, 120540, 38393, 0, 164091, 18917, 153552, 111244, 229813, 218731, 72227, 206017, 38393, 182523, 3880, 413, 51612, 290425, 290425, 67457, 67457, 113128, 282794, 128017, 103891, 124509, 45340, 50036, 273127, 239434, 103532, 82123, 18917, 10837, 103891, 215471, 127731, 248974, 182523, 413, 168749, 173507, 114926, 79193, 191956, 137929, 3880, 208309, 55339, 190572, 72263, 50854, 125992, 125992, 125992, 56923, 125992, 292274, 292274, 292274, 91256, 125992, 227994, 125992, 125992, 0, 77217, 235986, 93726, 41058, 268160, 3880, 51612, 1205, 80925, 92120, 103891, 127731, 209286, 4933]]\n"
     ]
    }
   ],
   "source": [
    "print(inplace_list[0])"
   ]
  },
  {
   "cell_type": "markdown",
   "metadata": {},
   "source": [
    "## Divide documents into chunks"
   ]
  },
  {
   "cell_type": "code",
   "execution_count": 19,
   "metadata": {},
   "outputs": [],
   "source": [
    "import matplotlib.pyplot as plt"
   ]
  },
  {
   "cell_type": "code",
   "execution_count": 20,
   "metadata": {},
   "outputs": [],
   "source": [
    "# we need to determine how to slice the document\n",
    "length = list(sentenceLength.keys())\n",
    "freq = [sentenceLength.get(i) for i in length]"
   ]
  },
  {
   "cell_type": "code",
   "execution_count": 21,
   "metadata": {},
   "outputs": [
    {
     "data": {
      "image/png": "[encoded data removed]",
      "text/plain": [
       "<Figure size 720x360 with 1 Axes>"
      ]
     },
     "metadata": {
      "needs_background": "light"
     },
     "output_type": "display_data"
    },
    {
     "name": "stdout",
     "output_type": "stream",
     "text": [
      "464\n"
     ]
    }
   ],
   "source": [
    "plt.figure(figsize=(10,5))\n",
    "plt.scatter(length, freq, s=1)\n",
    "plt.title(\"Length vs Freq\")\n",
    "plt.show()\n",
    "\n",
    "print(max(freq))"
   ]
  },
  {
   "cell_type": "code",
   "execution_count": 22,
   "metadata": {},
   "outputs": [
    {
     "name": "stdout",
     "output_type": "stream",
     "text": [
      "200\n"
     ]
    }
   ],
   "source": [
    "# so I determined to divide each document to chunks contains 200 words, and padding if length < 200\n",
    "print(Settings.seq_size)"
   ]
  },
  {
   "cell_type": "code",
   "execution_count": 23,
   "metadata": {},
   "outputs": [],
   "source": [
    "records = list() # contains label/chunk pair\n",
    "label_freq_dict = dict() # to see how many chunks belongs to one label\n",
    "\n",
    "for label, words in inplace_list:\n",
    "    sentences = FileUtils.divide_sentence(words, Settings.seq_size)\n",
    "    for s in sentences:\n",
    "        records.append([label, s])\n",
    "        label_freq_dict[label] = label_freq_dict.get(label, list()) + [s]"
   ]
  },
  {
   "cell_type": "code",
   "execution_count": 24,
   "metadata": {},
   "outputs": [
    {
     "name": "stdout",
     "output_type": "stream",
     "text": [
      "116524\n"
     ]
    }
   ],
   "source": [
    "print(len(records))"
   ]
  },
  {
   "cell_type": "code",
   "execution_count": 25,
   "metadata": {},
   "outputs": [
    {
     "data": {
      "image/png": "[encoded data removed]",
      "text/plain": [
       "<Figure size 720x360 with 1 Axes>"
      ]
     },
     "metadata": {
      "needs_background": "light"
     },
     "output_type": "display_data"
    }
   ],
   "source": [
    "plt.figure(figsize=(10,5))\n",
    "x = list(label_freq_dict.keys())\n",
    "y = [len(label_freq_dict.get(key)) for key in x]\n",
    "\n",
    "plt.bar(range(1, 15), y, \n",
    "        align='center', \n",
    "        color= (0,0,0,0),\n",
    "        edgecolor = 'r',\n",
    "        label='label vs Freq')\n",
    "plt.show()\n"
   ]
  },
  {
   "cell_type": "code",
   "execution_count": 26,
   "metadata": {},
   "outputs": [
    {
     "name": "stdout",
     "output_type": "stream",
     "text": [
      "[395, 652, 880, 1030, 1049, 1224, 1460, 2663, 4774, 5353, 13574, 20448, 22994, 40028]\n"
     ]
    }
   ],
   "source": [
    "print(sorted(y))"
   ]
  },
  {
   "cell_type": "markdown",
   "metadata": {},
   "source": [
    "## Then we need to somewhole balance the data"
   ]
  },
  {
   "cell_type": "code",
   "execution_count": 28,
   "metadata": {},
   "outputs": [],
   "source": [
    "for key in label_freq_dict:\n",
    "    words_list = label_freq_dict.get(key)\n",
    "    \n",
    "    # over-sampling\n",
    "    i = 1\n",
    "    while len(words_list) < 1000:\n",
    "        a = words_list[-i]\n",
    "        words_list.insert(0, a)\n",
    "        i +=1 \n",
    "        \n",
    "    label_freq_dict[key] = words_list"
   ]
  },
  {
   "cell_type": "code",
   "execution_count": 29,
   "metadata": {},
   "outputs": [
    {
     "data": {
      "image/png": "[encoded data removed]",
      "text/plain": [
       "<Figure size 720x360 with 1 Axes>"
      ]
     },
     "metadata": {
      "needs_background": "light"
     },
     "output_type": "display_data"
    },
    {
     "name": "stdout",
     "output_type": "stream",
     "text": [
      "[1000, 1000, 1000, 1030, 1049, 1224, 1460, 2663, 4774, 5353, 13574, 20448, 22994, 40028]\n"
     ]
    }
   ],
   "source": [
    "plt.figure(figsize=(10,5))\n",
    "x = list(label_freq_dict.keys())\n",
    "y = [len(label_freq_dict.get(key)) for key in x]\n",
    "\n",
    "plt.bar(range(1, 15), y, \n",
    "        align='center', \n",
    "        color= (0,0,0,0),\n",
    "        edgecolor = 'r',\n",
    "        label='label vs Freq')\n",
    "plt.show()\n",
    "print(sorted(y))"
   ]
  },
  {
   "cell_type": "markdown",
   "metadata": {},
   "source": [
    "### From the bar chart we can see a serious inbalance between different labels\n",
    "\n",
    "I will choose 1000 chunks for each label to build model train sets"
   ]
  },
  {
   "cell_type": "code",
   "execution_count": 30,
   "metadata": {},
   "outputs": [],
   "source": [
    "records = list() # discard the old one\n",
    "for key in label_freq_dict:\n",
    "    \n",
    "    # we down-sampling data which is too much\n",
    "    current_choose = label_freq_dict.get(key)[: 3000]\n",
    "    item = [[key, words] for words in current_choose]\n",
    "    records += item"
   ]
  },
  {
   "cell_type": "code",
   "execution_count": 31,
   "metadata": {},
   "outputs": [
    {
     "name": "stdout",
     "output_type": "stream",
     "text": [
      "[1, [264034, 252726, 109345, 279100, 104751, 278019, 34145, 147553, 296178, 125804, 99304, 44420, 164601, 58683, 290811, 222466, 32112, 210189, 104751, 244038, 44420, 211770, 262000, 22763, 30566, 34145, 45226, 215471, 284579, 37300, 269112, 126016, 114056, 65145, 245076, 105682, 184551, 99304, 164601, 0, 142995, 44069, 213888, 159733, 73426, 10873, 77787, 44420, 27845, 248974, 146831, 283820, 47766, 73857, 265640, 286277, 277823, 244780, 257328, 14193, 103891, 246874, 59204, 44420, 39572, 285502, 257068, 184641, 125223, 78985, 126016, 164808, 215991, 206533, 226964, 238876, 146831, 180663, 103891, 300870, 248974, 92120, 146831, 27845, 103891, 158819, 54069, 257328, 248974, 22660, 257068, 206196, 250441, 147756, 238876, 146831, 145900, 248974, 146831, 222276, 92120, 229822, 264034, 87967, 125992, 242649, 48001, 187214, 280862, 293599, 173736, 9546, 276034, 164091, 297029, 149060, 81126, 61336, 147756, 73207, 84223, 71741, 96574, 64735, 229822, 238876, 218099, 0, 18917, 103891, 209286, 11190, 56551, 18917, 164091, 297029, 149060, 81126, 61336, 246692, 295759, 37039, 126957, 274452, 229822, 9546, 276034, 210143, 39115, 48890, 100500, 218642, 92068, 152254, 3311, 272302, 168749, 79181, 28338, 55184, 236535, 283498, 262218, 3486, 238876, 127071, 164091, 274703, 229813, 82348, 3880, 208309, 262348, 248974, 168749, 79181, 219807, 77679, 54069, 218099, 238876, 92488, 262348, 41446, 6149, 246877, 248974, 168749, 79181, 92120, 262218, 238876, 238876, 288301, 128284, 146831, 164091, 250574, 274703, 152254]]\n"
     ]
    }
   ],
   "source": [
    "print(records[0])"
   ]
  },
  {
   "cell_type": "markdown",
   "metadata": {},
   "source": [
    "## Build dataset"
   ]
  },
  {
   "cell_type": "code",
   "execution_count": 32,
   "metadata": {},
   "outputs": [],
   "source": [
    "total_size = len(records)\n",
    "train_size = int(total_size * 0.8)\n",
    "valid_size = int(total_size * 0.1)\n",
    "test_size = total_size - train_size - valid_size"
   ]
  },
  {
   "cell_type": "code",
   "execution_count": 33,
   "metadata": {},
   "outputs": [
    {
     "name": "stdout",
     "output_type": "stream",
     "text": [
      "22740 2844 2842\n"
     ]
    }
   ],
   "source": [
    "print(train_size, test_size, valid_size)"
   ]
  },
  {
   "cell_type": "code",
   "execution_count": 34,
   "metadata": {},
   "outputs": [],
   "source": [
    "index_list = [i for i in range(total_size)]\n",
    "random.seed(516)\n",
    "random.shuffle(index_list)\n",
    "train_indice = index_list[:train_size]\n",
    "valid_indice = index_list[train_size: train_size + valid_size]\n",
    "test_indice = index_list[-test_size:]"
   ]
  },
  {
   "cell_type": "code",
   "execution_count": 35,
   "metadata": {},
   "outputs": [],
   "source": [
    "def build_set(set_name, indice, all_data):\n",
    "    def create_label(label_index):\n",
    "        \"\"\"\n",
    "        Turn label scalar into a one hot vector\n",
    "        \"\"\"\n",
    "        res = [0 for i in range(14)]\n",
    "        res[label_index-1] = 1 # because we start at 1\n",
    "        return res\n",
    "    \n",
    "    n = len(indice)\n",
    "    dataset = h5py.File(set_name, \"a\")\n",
    "    dataset.create_dataset('label', shape=(n, 14), dtype=int)\n",
    "    dataset.create_dataset('chunk', shape=(n, Settings.seq_size), dtype=int)\n",
    "    \n",
    "    for i, index in enumerate(indice):\n",
    "        label, words = all_data[index]\n",
    "        dataset[\"label\"][i] = create_label(label)\n",
    "        dataset[\"chunk\"][i] = words\n",
    "    dataset.close()\n",
    "    return      "
   ]
  },
  {
   "cell_type": "code",
   "execution_count": 36,
   "metadata": {},
   "outputs": [],
   "source": [
    "build_set(Settings.train_path, train_indice, records)"
   ]
  },
  {
   "cell_type": "code",
   "execution_count": 37,
   "metadata": {},
   "outputs": [],
   "source": [
    "build_set(Settings.valid_path, valid_indice, records)"
   ]
  },
  {
   "cell_type": "code",
   "execution_count": 38,
   "metadata": {},
   "outputs": [],
   "source": [
    "build_set(Settings.test_path, test_indice, records)"
   ]
  },
  {
   "cell_type": "code",
   "execution_count": 39,
   "metadata": {},
   "outputs": [
    {
     "name": "stdout",
     "output_type": "stream",
     "text": [
      "[[0 0 1 0 0 0 0 0 0 0 0 0 0 0]\n",
      " [0 0 0 0 0 0 0 0 0 0 0 1 0 0]\n",
      " [0 0 0 0 1 0 0 0 0 0 0 0 0 0]\n",
      " [0 0 0 0 0 0 0 0 0 0 0 0 0 1]\n",
      " [1 0 0 0 0 0 0 0 0 0 0 0 0 0]]\n",
      "[     0  80866 181799  80594  67163  18917  10423 179947 197950 179141\n",
      " 111244 206004 267456  32304 262183      0      0  17575 111244  72727\n",
      "  61246  39934 277283 119931 288290 232074  78140  10423 205903 174249\n",
      " 288290 146524 261675      0 237304  91272 291222  80866 181799  87967\n",
      " 188496 229822 277283 291222 293002 137960 188984 237347 252751 280639\n",
      " 204495 233522 108068 182235 125308 296178 267456 229822 261693 282038\n",
      " 240415 218099  50854 261693  55339  50854 103891 190572 234293 237854\n",
      " 268628 106890  32575 216485 276332  16144 163884 197950 248974 282794\n",
      " 296178 280639 186033 215471 106330 155800 288290 126957 210568 229822\n",
      " 218099 179932 122497  39934 291222 277283      0 128017 111244 218099\n",
      " 280862 280862 251820 215945 242649 103891  44420 103891 122497  39934\n",
      "  44420  81879 164091  86340  97273 149060 107371 145038 107371 145038\n",
      " 295961  55185 126957   6146 212827 110662 126957 210568 229822 161073\n",
      "      0  18917 103891  84997  61122 148443  44420 215945 140827  44420\n",
      " 103891 237347 277311 126957   4696 229822 293002 137960 188984  78140\n",
      " 255102      0 159495  72727 233549  91272  87967 188496 229822  17575\n",
      " 290798  32304 262183  44047 126957 183127 229822 210262 295961  44068\n",
      " 110662 185915 101496 141219  54774 175557  54774  27348 112468      0\n",
      " 293002 137960 188984 242734 112468  39690  99781  17575 101496 141219\n",
      "  54774  27348 234842 264270 179947 275120 109052 275120 105358 241743]\n"
     ]
    }
   ],
   "source": [
    "t_set = h5py.File(Settings.test_path, 'r')\n",
    "print(t_set['label'][:5])\n",
    "print(t_set['chunk'][1])"
   ]
  },
  {
   "cell_type": "markdown",
   "metadata": {},
   "source": [
    "# Also build a dataset which is not over/down-sampling"
   ]
  },
  {
   "cell_type": "code",
   "execution_count": 40,
   "metadata": {},
   "outputs": [],
   "source": [
    "records = list() # contains label/chunk pair\n",
    "label_freq_dict = dict() # to see how many chunks belongs to one label\n",
    "\n",
    "for label, words in inplace_list:\n",
    "    sentences = FileUtils.divide_sentence(words, Settings.seq_size)\n",
    "    for s in sentences:\n",
    "        records.append([label, s])\n",
    "        label_freq_dict[label] = label_freq_dict.get(label, list()) + [s]"
   ]
  },
  {
   "cell_type": "code",
   "execution_count": 41,
   "metadata": {},
   "outputs": [],
   "source": [
    "records = list()\n",
    "for key in label_freq_dict:\n",
    "    current_choose = label_freq_dict.get(key)[:]\n",
    "    item = [[key, words] for words in current_choose]\n",
    "    records += item"
   ]
  },
  {
   "cell_type": "code",
   "execution_count": 42,
   "metadata": {},
   "outputs": [],
   "source": [
    "total_size = len(records)\n",
    "train_size = int(total_size * 0.8)\n",
    "valid_size = int(total_size * 0.1)\n",
    "test_size = total_size - train_size - valid_size"
   ]
  },
  {
   "cell_type": "code",
   "execution_count": 43,
   "metadata": {},
   "outputs": [
    {
     "name": "stdout",
     "output_type": "stream",
     "text": [
      "93219 11653 11652\n"
     ]
    }
   ],
   "source": [
    "print(train_size, test_size, valid_size)"
   ]
  },
  {
   "cell_type": "code",
   "execution_count": 44,
   "metadata": {},
   "outputs": [],
   "source": [
    "index_list = [i for i in range(total_size)]\n",
    "random.seed(516)\n",
    "random.shuffle(index_list)\n",
    "train_indice = index_list[:train_size]\n",
    "valid_indice = index_list[train_size: train_size + valid_size]\n",
    "test_indice = index_list[-test_size:]"
   ]
  },
  {
   "cell_type": "code",
   "execution_count": 45,
   "metadata": {},
   "outputs": [],
   "source": [
    "build_set(Settings.e_train_path, train_indice, records)\n",
    "build_set(Settings.e_test_path, test_indice, records)\n",
    "build_set(Settings.e_valid_path, valid_indice, records)"
   ]
  },
  {
   "cell_type": "code",
   "execution_count": 46,
   "metadata": {},
   "outputs": [
    {
     "name": "stdout",
     "output_type": "stream",
     "text": [
      "[[0 0 0 0 0 0 0 0 1 0 0 0 0 0]\n",
      " [0 0 1 0 0 0 0 0 0 0 0 0 0 0]\n",
      " [0 0 1 0 0 0 0 0 0 0 0 0 0 0]\n",
      " [0 0 1 0 0 0 0 0 0 0 0 0 0 0]\n",
      " [0 0 1 0 0 0 0 0 0 0 0 0 0 0]]\n",
      "[131005 114392 174051 139597      0  39565 174051 139597 219288  55184\n",
      " 139500 232887      0  55184  55184 134546 236535 147756 236535 168671\n",
      "  77107 171677 229951 116901  64318 255522 189454 265772 298699 271114\n",
      " 182624 279905 255522 189454 265772 265400 128647 236879 209286  90998\n",
      " 188815 182624 298697  50919  69355 220527   4933  34507 164091  53684\n",
      " 122634 218791 166442 240859 160447 102396   3730 240091 248974  95006\n",
      " 146831  52615 104909  45878  29668  19289   9842 249931 156055 202774\n",
      " 280862 127731 131005 137347 248974 129289  80163 248974 179785  76406\n",
      " 146831 218099 103891 146831 174051  55184 103891 231946 262799  41453\n",
      " 139597 175932  55184 102396   3730 240859 103891 160447 240091  54932\n",
      "  95006 278723 136984 122634 218791 166442  91809 164091  44420  53684\n",
      " 109851  33211 158733 278937 100129  47364 229883 126682 178565 127731\n",
      "  99304 183393  15653 115980 242425 176419  90405  85615 166798 108068\n",
      " 125517  44420  10600 295345  89984 248974  44420 298697  50919  69355\n",
      " 229883 257746 111568 152436 167769  82103  48175 295345  99304   1226\n",
      " 280862 199837 262000 102516 216485 231860 291222  24948  44420 206533\n",
      "  44420 278019 275653 240091 248974 202718  85615 126682 269763  11336\n",
      " 262000  47364 128647  94068 108220 225610 128017  54932  32304  15653\n",
      "      0  24948 209286 278019 218099 272828 268948  18917 146831 274421\n",
      "  32304  76197 127954 103891 203897 203721  77787 265454 291222  22660]\n"
     ]
    }
   ],
   "source": [
    "t_set = h5py.File(Settings.e_test_path, 'r')\n",
    "print(t_set['label'][:5])\n",
    "print(t_set['chunk'][1])"
   ]
  }
 ],
 "metadata": {
  "kernelspec": {
   "display_name": "Python 3",
   "language": "python",
   "name": "python3"
  },
  "language_info": {
   "codemirror_mode": {
    "name": "ipython",
    "version": 3
   },
   "file_extension": ".py",
   "mimetype": "text/x-python",
   "name": "python",
   "nbconvert_exporter": "python",
   "pygments_lexer": "ipython3",
   "version": "3.7.1"
  }
 },
 "nbformat": 4,
 "nbformat_minor": 2
}
